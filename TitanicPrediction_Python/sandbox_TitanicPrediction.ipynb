{
 "cells": [
  {
   "cell_type": "code",
   "execution_count": 8,
   "metadata": {},
   "outputs": [
    {
     "name": "stdout",
     "output_type": "stream",
     "text": [
      "     Survived  Pclass  Sex   Age  SibSp  Parch     Fare\n",
      "0           0       3    0  22.0      1      0   7.2500\n",
      "1           1       1    1  38.0      1      0  71.2833\n",
      "2           1       3    1  26.0      0      0   7.9250\n",
      "3           1       1    1  35.0      1      0  53.1000\n",
      "4           0       3    0  35.0      0      0   8.0500\n",
      "..        ...     ...  ...   ...    ...    ...      ...\n",
      "726         0       3    0  25.0      0      0   7.0500\n",
      "727         0       3    1  39.0      0      5  29.1250\n",
      "728         0       2    0  27.0      0      0  13.0000\n",
      "729         0       3    1   NaN      1      2  23.4500\n",
      "730         1       1    0  26.0      0      0  30.0000\n",
      "\n",
      "[731 rows x 7 columns]\n",
      "     Survived  Pclass  Sex   Age  SibSp  Parch      Fare\n",
      "0           0       2    0  35.0      0      0   26.0000\n",
      "1           1       3    1  38.0      1      5   31.3875\n",
      "2           0       1    0  19.0      3      2  263.0000\n",
      "3           1       3    0   NaN      0      0    7.2292\n",
      "4           0       3    1  40.0      1      0    9.4750\n",
      "..        ...     ...  ...   ...    ...    ...       ...\n",
      "155         0       3    1   9.0      1      1   15.2458\n",
      "156         1       3    0   4.0      1      1   11.1333\n",
      "157         0       1    0  33.0      0      0    5.0000\n",
      "158         1       1    1  19.0      0      0   30.0000\n",
      "159         0       3    0  32.0      0      0    7.7500\n",
      "\n",
      "[160 rows x 7 columns]\n"
     ]
    }
   ],
   "source": [
    "# import\n",
    "from sklearn.model_selection import train_test_split\n",
    "from sklearn.preprocessing import StandardScaler\n",
    "from sklearn import preprocessing\n",
    "from sklearn import utils\n",
    "\n",
    "# testing model\n",
    "from sklearn.metrics import confusion_matrix\n",
    "from sklearn.metrics import f1_score\n",
    "from sklearn.metrics import accuracy_score\n",
    "from sklearn.metrics import mean_squared_error\n",
    "from sklearn.metrics import classification_report\n",
    "import seaborn as sns\n",
    "\n",
    "# testing model \n",
    "\n",
    "import numpy as np\n",
    "import pandas as pd\n",
    "import math\n",
    "import matplotlib.pyplot as plt\n",
    "import seaborn as sns\n",
    "\n",
    "\n",
    "# import training data using specified path\n",
    "df_train = pd.read_csv('/Users/nwilson/Documents/GitHub/cscd429/TitanicPrediction_Python/Data/train.csv')\n",
    "\n",
    "\n",
    "df_test = pd.read_csv('/Users/nwilson/Documents/GitHub/cscd429/TitanicPrediction_Python/Data/test.csv')\n",
    "\n",
    "\n",
    "# drop useless attributes for now and change categorical vars to numerical\n",
    "df_train.drop(labels = [\"Cabin\", \"Embarked\", \"Name\", \"PassengerId\", \"Ticket\"], inplace = True, axis = 1)\n",
    "#replace sex with 0 for male, 1 for female\n",
    "df_train['Sex'].replace(['male', 'female'], [0, 1], inplace = True)\n",
    "print(df_train)\n",
    "\n",
    "# drop useless attributes for now and change categorical vars to numerical\n",
    "df_test.drop(labels = [\"Cabin\", \"Embarked\", \"Name\", \"PassengerId\", \"Ticket\"], inplace = True, axis = 1)\n",
    "#replace sex with 0 for male, 1 for female\n",
    "df_test['Sex'].replace(['male', 'female'], [0, 1], inplace = True)\n",
    "print(df_test)\n",
    "\n",
    "\n"
   ]
  }
 ],
 "metadata": {
  "kernelspec": {
   "display_name": "Python 3",
   "language": "python",
   "name": "python3"
  },
  "language_info": {
   "codemirror_mode": {
    "name": "ipython",
    "version": 3
   },
   "file_extension": ".py",
   "mimetype": "text/x-python",
   "name": "python",
   "nbconvert_exporter": "python",
   "pygments_lexer": "ipython3",
   "version": "3.9.12"
  },
  "orig_nbformat": 4
 },
 "nbformat": 4,
 "nbformat_minor": 2
}
